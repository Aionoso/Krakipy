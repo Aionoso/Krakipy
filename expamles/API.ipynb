{
 "cells": [
  {
   "cell_type": "code",
   "execution_count": 1,
   "metadata": {},
   "outputs": [],
   "source": [
    "from krakipy import KrakenAPI"
   ]
  },
  {
   "cell_type": "code",
   "execution_count": 2,
   "metadata": {},
   "outputs": [],
   "source": [
    "key = \"********************************************************\"\n",
    "secret_key = \"****************************************************************************************\"\n",
    "kr = KrakenAPI(key, secret_key)"
   ]
  },
  {
   "cell_type": "code",
   "execution_count": 7,
   "metadata": {},
   "outputs": [
    {
     "data": {
      "text/html": [
       "<div>\n",
       "<style scoped>\n",
       "    .dataframe tbody tr th:only-of-type {\n",
       "        vertical-align: middle;\n",
       "    }\n",
       "\n",
       "    .dataframe tbody tr th {\n",
       "        vertical-align: top;\n",
       "    }\n",
       "\n",
       "    .dataframe thead th {\n",
       "        text-align: right;\n",
       "    }\n",
       "</style>\n",
       "<table border=\"1\" class=\"dataframe\">\n",
       "  <thead>\n",
       "    <tr style=\"text-align: right;\">\n",
       "      <th></th>\n",
       "      <th>vol</th>\n",
       "    </tr>\n",
       "  </thead>\n",
       "  <tbody>\n",
       "    <tr>\n",
       "      <th>ZEUR</th>\n",
       "      <td>2.769522e+03</td>\n",
       "    </tr>\n",
       "    <tr>\n",
       "      <th>XXBT</th>\n",
       "      <td>1.465766e-01</td>\n",
       "    </tr>\n",
       "    <tr>\n",
       "      <th>XXRP</th>\n",
       "      <td>3.000000e-08</td>\n",
       "    </tr>\n",
       "    <tr>\n",
       "      <th>XXLM</th>\n",
       "      <td>5.302990e+03</td>\n",
       "    </tr>\n",
       "    <tr>\n",
       "      <th>XETH</th>\n",
       "      <td>5.129388e+00</td>\n",
       "    </tr>\n",
       "  </tbody>\n",
       "</table>\n",
       "</div>"
      ],
      "text/plain": [
       "               vol\n",
       "ZEUR  2.769522e+03\n",
       "XXBT  1.465766e-01\n",
       "XXRP  3.000000e-08\n",
       "XXLM  5.302990e+03\n",
       "XETH  5.129388e+00"
      ]
     },
     "execution_count": 7,
     "metadata": {},
     "output_type": "execute_result"
    }
   ],
   "source": [
    "# Get the current account balance\n",
    "\n",
    "data = kr.get_account_balance()\n",
    "data.head()"
   ]
  },
  {
   "cell_type": "code",
   "execution_count": 6,
   "metadata": {},
   "outputs": [
    {
     "data": {
      "text/html": [
       "<div>\n",
       "<style scoped>\n",
       "    .dataframe tbody tr th:only-of-type {\n",
       "        vertical-align: middle;\n",
       "    }\n",
       "\n",
       "    .dataframe tbody tr th {\n",
       "        vertical-align: top;\n",
       "    }\n",
       "\n",
       "    .dataframe thead th {\n",
       "        text-align: right;\n",
       "    }\n",
       "</style>\n",
       "<table border=\"1\" class=\"dataframe\">\n",
       "  <thead>\n",
       "    <tr style=\"text-align: right;\">\n",
       "      <th></th>\n",
       "      <th>time</th>\n",
       "      <th>open</th>\n",
       "      <th>high</th>\n",
       "      <th>low</th>\n",
       "      <th>close</th>\n",
       "      <th>vwap</th>\n",
       "      <th>volume</th>\n",
       "      <th>count</th>\n",
       "    </tr>\n",
       "  </thead>\n",
       "  <tbody>\n",
       "    <tr>\n",
       "      <th>0</th>\n",
       "      <td>1602836760</td>\n",
       "      <td>9677.1</td>\n",
       "      <td>9678.6</td>\n",
       "      <td>9677.0</td>\n",
       "      <td>9678.5</td>\n",
       "      <td>9677.9</td>\n",
       "      <td>6.772937</td>\n",
       "      <td>15.0</td>\n",
       "    </tr>\n",
       "    <tr>\n",
       "      <th>1</th>\n",
       "      <td>1602836820</td>\n",
       "      <td>9678.6</td>\n",
       "      <td>9678.6</td>\n",
       "      <td>9678.5</td>\n",
       "      <td>9678.6</td>\n",
       "      <td>9678.5</td>\n",
       "      <td>0.262713</td>\n",
       "      <td>11.0</td>\n",
       "    </tr>\n",
       "    <tr>\n",
       "      <th>2</th>\n",
       "      <td>1602836880</td>\n",
       "      <td>9678.5</td>\n",
       "      <td>9684.0</td>\n",
       "      <td>9678.5</td>\n",
       "      <td>9684.0</td>\n",
       "      <td>9681.0</td>\n",
       "      <td>0.788785</td>\n",
       "      <td>18.0</td>\n",
       "    </tr>\n",
       "    <tr>\n",
       "      <th>3</th>\n",
       "      <td>1602836940</td>\n",
       "      <td>9683.9</td>\n",
       "      <td>9684.0</td>\n",
       "      <td>9683.9</td>\n",
       "      <td>9684.0</td>\n",
       "      <td>9683.9</td>\n",
       "      <td>0.461384</td>\n",
       "      <td>12.0</td>\n",
       "    </tr>\n",
       "    <tr>\n",
       "      <th>4</th>\n",
       "      <td>1602837000</td>\n",
       "      <td>9684.0</td>\n",
       "      <td>9684.0</td>\n",
       "      <td>9683.9</td>\n",
       "      <td>9684.0</td>\n",
       "      <td>9683.9</td>\n",
       "      <td>0.522029</td>\n",
       "      <td>11.0</td>\n",
       "    </tr>\n",
       "  </tbody>\n",
       "</table>\n",
       "</div>"
      ],
      "text/plain": [
       "         time    open    high     low   close    vwap    volume  count\n",
       "0  1602836760  9677.1  9678.6  9677.0  9678.5  9677.9  6.772937   15.0\n",
       "1  1602836820  9678.6  9678.6  9678.5  9678.6  9678.5  0.262713   11.0\n",
       "2  1602836880  9678.5  9684.0  9678.5  9684.0  9681.0  0.788785   18.0\n",
       "3  1602836940  9683.9  9684.0  9683.9  9684.0  9683.9  0.461384   12.0\n",
       "4  1602837000  9684.0  9684.0  9683.9  9684.0  9683.9  0.522029   11.0"
      ]
     },
     "execution_count": 6,
     "metadata": {},
     "output_type": "execute_result"
    }
   ],
   "source": [
    "# Get the Bitcoin/EUR prices in 1 minute intervalls\n",
    "\n",
    "data, count = kr.get_ohlc_data(\"XXBTZEUR\", 1)\n",
    "data.head()"
   ]
  },
  {
   "cell_type": "code",
   "execution_count": 16,
   "metadata": {},
   "outputs": [
    {
     "name": "stdout",
     "output_type": "stream",
     "text": [
      "TF7WA2-23N7C-LMXA2P\n"
     ]
    }
   ],
   "source": [
    "# Withdraw 1 Bitcion to your wallet named \"Own Wallet\".\n",
    "\n",
    "kr.withdraw_funds(\"XXBT\", 1, \"Own Wallet\")\n",
    "\n",
    "# Returns the transaction ID of the withdrawl"
   ]
  },
  {
   "cell_type": "code",
   "execution_count": null,
   "metadata": {},
   "outputs": [],
   "source": []
  }
 ],
 "metadata": {
  "kernelspec": {
   "display_name": "Python 3",
   "language": "python",
   "name": "python3"
  },
  "language_info": {
   "codemirror_mode": {
    "name": "ipython",
    "version": 3
   },
   "file_extension": ".py",
   "mimetype": "text/x-python",
   "name": "python",
   "nbconvert_exporter": "python",
   "pygments_lexer": "ipython3",
   "version": "3.6.5"
  }
 },
 "nbformat": 4,
 "nbformat_minor": 2
}
